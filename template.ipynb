{
  "nbformat": 4,
  "nbformat_minor": 0,
  "metadata": {
    "colab": {
      "provenance": [],
      "authorship_tag": "ABX9TyOnhCaHbIOQ2DlL11LCl4mD",
      "include_colab_link": true
    },
    "kernelspec": {
      "name": "python3",
      "display_name": "Python 3"
    },
    "language_info": {
      "name": "python"
    }
  },
  "cells": [
    {
      "cell_type": "markdown",
      "metadata": {
        "id": "view-in-github",
        "colab_type": "text"
      },
      "source": [
        "<a href=\"https://colab.research.google.com/github/Bobi-San/test-colab/blob/main/template.ipynb\" target=\"_parent\"><img src=\"https://colab.research.google.com/assets/colab-badge.svg\" alt=\"Open In Colab\"/></a>"
      ]
    },
    {
      "cell_type": "markdown",
      "source": [
        "### Sales"
      ],
      "metadata": {
        "id": "L5B0SEE5ICnp"
      }
    },
    {
      "cell_type": "code",
      "source": [
        "revenue = 10000\n",
        "tax = 0.19\n",
        "income = revenue * tax\n",
        "income"
      ],
      "metadata": {
        "id": "B4XcdaUrHQ-n",
        "outputId": "d8cff78b-1fb3-4928-9123-94a8fff7471a",
        "colab": {
          "base_uri": "https://localhost:8080/"
        }
      },
      "execution_count": 4,
      "outputs": [
        {
          "output_type": "execute_result",
          "data": {
            "text/plain": [
              "1900.0"
            ]
          },
          "metadata": {},
          "execution_count": 4
        }
      ]
    },
    {
      "cell_type": "code",
      "source": [
        "print(income)"
      ],
      "metadata": {
        "id": "9Z8joJyCHl_y",
        "outputId": "a4e8d5b4-b96f-4ecb-892e-936bdb92b676",
        "colab": {
          "base_uri": "https://localhost:8080/"
        }
      },
      "execution_count": 5,
      "outputs": [
        {
          "output_type": "stream",
          "name": "stdout",
          "text": [
            "1900.0\n"
          ]
        }
      ]
    },
    {
      "cell_type": "markdown",
      "source": [
        "# Summary"
      ],
      "metadata": {
        "id": "Fbb7FbPGIiUl"
      }
    },
    {
      "cell_type": "code",
      "source": [
        "import numpy as np\n",
        "\n",
        "np.__version__"
      ],
      "metadata": {
        "id": "QMSyaBB5Iu5s",
        "outputId": "eb5c931f-635b-43b4-8938-dc63a2ec58fc",
        "colab": {
          "base_uri": "https://localhost:8080/",
          "height": 36
        }
      },
      "execution_count": 6,
      "outputs": [
        {
          "output_type": "execute_result",
          "data": {
            "text/plain": [
              "'1.22.4'"
            ],
            "application/vnd.google.colaboratory.intrinsic+json": {
              "type": "string"
            }
          },
          "metadata": {},
          "execution_count": 6
        }
      ]
    },
    {
      "cell_type": "code",
      "source": [
        "np.random.rand?"
      ],
      "metadata": {
        "id": "nSyXKHhlJFVf"
      },
      "execution_count": 7,
      "outputs": []
    },
    {
      "cell_type": "code",
      "source": [
        "import imageai"
      ],
      "metadata": {
        "id": "7Mj5bX9UJbZj",
        "outputId": "9b6b591a-f1c8-4788-efca-242a9d86745f",
        "colab": {
          "base_uri": "https://localhost:8080/",
          "height": 304
        }
      },
      "execution_count": 9,
      "outputs": [
        {
          "output_type": "error",
          "ename": "ModuleNotFoundError",
          "evalue": "ignored",
          "traceback": [
            "\u001b[0;31m---------------------------------------------------------------------------\u001b[0m",
            "\u001b[0;31mModuleNotFoundError\u001b[0m                       Traceback (most recent call last)",
            "\u001b[0;32m<ipython-input-9-2cf5b4bddf56>\u001b[0m in \u001b[0;36m<module>\u001b[0;34m\u001b[0m\n\u001b[0;32m----> 1\u001b[0;31m \u001b[0;32mimport\u001b[0m \u001b[0mimageai\u001b[0m\u001b[0;34m\u001b[0m\u001b[0;34m\u001b[0m\u001b[0m\n\u001b[0m",
            "\u001b[0;31mModuleNotFoundError\u001b[0m: No module named 'imageai'",
            "",
            "\u001b[0;31m---------------------------------------------------------------------------\u001b[0;32m\nNOTE: If your import is failing due to a missing package, you can\nmanually install dependencies using either !pip or !apt.\n\nTo view examples of installing some common dependencies, click the\n\"Open Examples\" button below.\n\u001b[0;31m---------------------------------------------------------------------------\u001b[0m\n"
          ],
          "errorDetails": {
            "actions": [
              {
                "action": "open_url",
                "actionText": "Open Examples",
                "url": "/notebooks/snippets/importing_libraries.ipynb"
              }
            ]
          }
        }
      ]
    },
    {
      "cell_type": "code",
      "source": [
        "pip install imageai"
      ],
      "metadata": {
        "id": "nJhLyU1ZJ0AJ",
        "outputId": "01b5a4ae-d602-4921-c5bd-d6c643e85ba9",
        "colab": {
          "base_uri": "https://localhost:8080/"
        }
      },
      "execution_count": 10,
      "outputs": [
        {
          "output_type": "stream",
          "name": "stdout",
          "text": [
            "Looking in indexes: https://pypi.org/simple, https://us-python.pkg.dev/colab-wheels/public/simple/\n",
            "Collecting imageai\n",
            "  Downloading imageai-3.0.3-py3-none-any.whl (69 kB)\n",
            "\u001b[2K     \u001b[90m━━━━━━━━━━━━━━━━━━━━━━━━━━━━━━━━━━━━━━━━\u001b[0m \u001b[32m69.8/69.8 KB\u001b[0m \u001b[31m5.8 MB/s\u001b[0m eta \u001b[36m0:00:00\u001b[0m\n",
            "\u001b[?25hInstalling collected packages: imageai\n",
            "Successfully installed imageai-3.0.3\n"
          ]
        }
      ]
    },
    {
      "cell_type": "code",
      "source": [
        "import imageai"
      ],
      "metadata": {
        "id": "SRtM3BRCJ9nx"
      },
      "execution_count": 11,
      "outputs": []
    },
    {
      "cell_type": "markdown",
      "source": [
        "### Markdown"
      ],
      "metadata": {
        "id": "5w31rhuaKE5i"
      }
    },
    {
      "cell_type": "markdown",
      "source": [
        "# Examples: \n",
        "italic: *markdown*\n",
        "\n",
        "bold: **markdown** or __markdown__\n",
        "\n",
        "monospace word: `markdown`\n",
        "\n",
        "monospace paragraph: \n",
        "```\n",
        "Bla bla bla\n",
        "Bla bla bla\n",
        "Bla bla bla\n",
        "```\n",
        "> Python\n",
        ">> Code\n",
        "\n",
        "Ordered list:\n",
        "1. one\n",
        "2. one\n",
        "\n"
      ],
      "metadata": {
        "id": "11W35dg4KQ5w"
      }
    },
    {
      "cell_type": "markdown",
      "source": [
        "[Google](https://www.google.com/)"
      ],
      "metadata": {
        "id": "tUxx-TngNQGR"
      }
    },
    {
      "cell_type": "markdown",
      "source": [
        "$y = x^2$\n",
        "\n",
        "$\\frac{1}{n} \\sum_{i=1}^{n}x_{i}$\n",
        "\n"
      ],
      "metadata": {
        "id": "nqoaLdaXNjvj"
      }
    }
  ]
}